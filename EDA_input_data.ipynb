{
 "cells": [
  {
   "cell_type": "markdown",
   "metadata": {
    "editable": true
   },
   "source": [
    "# Exploratory Data Analysis (EDA): understand the input data"
   ]
  },
  {
   "cell_type": "code",
   "execution_count": 1,
   "metadata": {
    "editable": true
   },
   "outputs": [],
   "source": [
    "import boto3\n",
    "import configparser"
   ]
  },
  {
   "cell_type": "code",
   "execution_count": 2,
   "metadata": {
    "editable": true
   },
   "outputs": [],
   "source": [
    "config = configparser.ConfigParser()\n",
    "config.read('dwh.cfg')\n",
    "\n",
    "# AWS\n",
    "KEY                    = config.get('AWS','KEY')\n",
    "SECRET                 = config.get('AWS','SECRET')"
   ]
  },
  {
   "cell_type": "code",
   "execution_count": 3,
   "metadata": {
    "editable": true
   },
   "outputs": [],
   "source": [
    "s3c = boto3.client('s3',\n",
    "                    region_name='eu-west-2', \n",
    "                    aws_access_key_id=KEY,\n",
    "                    aws_secret_access_key=SECRET\n",
    "              )\n",
    "s3r = boto3.resource('s3',\n",
    "                    region_name='eu-west-2', \n",
    "                    aws_access_key_id=KEY,\n",
    "                    aws_secret_access_key=SECRET\n",
    "              )\n",
    "udacity_bucket = s3r.Bucket(\"udacity-dend\")"
   ]
  },
  {
   "cell_type": "markdown",
   "metadata": {
    "editable": true
   },
   "source": [
    "### Look into input files for the `song_data`\n",
    "\n",
    "$\\rightarrow$ Contains JSON files with song metadata (artist_id, artist_latitude, ..., year)"
   ]
  },
  {
   "cell_type": "code",
   "execution_count": 4,
   "metadata": {
    "editable": true
   },
   "outputs": [
    {
     "name": "stdout",
     "output_type": "stream",
     "text": [
      "s3.ObjectSummary(bucket_name='udacity-dend', key='song_data/')\n",
      "s3.ObjectSummary(bucket_name='udacity-dend', key='song_data/A/A/A/TRAAAAK128F9318786.json')\n",
      "s3.ObjectSummary(bucket_name='udacity-dend', key='song_data/A/A/A/TRAAAAV128F421A322.json')\n",
      "s3.ObjectSummary(bucket_name='udacity-dend', key='song_data/A/A/A/TRAAABD128F429CF47.json')\n",
      "s3.ObjectSummary(bucket_name='udacity-dend', key='song_data/A/A/A/TRAAACN128F9355673.json')\n"
     ]
    }
   ],
   "source": [
    "for i, obj in enumerate(udacity_bucket.objects.filter(Prefix='song_data')):\n",
    "    print(obj)\n",
    "    if i > 3:\n",
    "        break"
   ]
  },
  {
   "cell_type": "code",
   "execution_count": 5,
   "metadata": {
    "editable": true
   },
   "outputs": [
    {
     "name": "stdout",
     "output_type": "stream",
     "text": [
      "{\"artist_id\":\"ARJNIUY12298900C91\",\"artist_latitude\":null,\"artist_location\":\"\",\"artist_longitude\":null,\"artist_name\":\"Adelitas Way\",\"duration\":213.9424,\"num_songs\":1,\"song_id\":\"SOBLFFE12AF72AA5BA\",\"title\":\"Scream\",\"year\":2009}\n"
     ]
    }
   ],
   "source": [
    "# print the content of the first file \n",
    "# boto3 s3 resource has no get_object\n",
    "print(s3c.get_object(Bucket='udacity-dend', Key='song_data/A/A/A/TRAAAAK128F9318786.json')\\\n",
    "      ['Body'].read().decode('utf-8')[:500])"
   ]
  },
  {
   "cell_type": "markdown",
   "metadata": {
    "editable": true
   },
   "source": [
    "### Look into input files for the `log_data`\n",
    "\n",
    "$\\rightarrow$ Contain JSON files with user activity, ie songs played (with artist, authorisation status, ...., user_id)"
   ]
  },
  {
   "cell_type": "code",
   "execution_count": 6,
   "metadata": {
    "editable": true
   },
   "outputs": [
    {
     "name": "stdout",
     "output_type": "stream",
     "text": [
      "s3.ObjectSummary(bucket_name='udacity-dend', key='log_data/')\n",
      "s3.ObjectSummary(bucket_name='udacity-dend', key='log_data/2018/11/2018-11-01-events.json')\n",
      "s3.ObjectSummary(bucket_name='udacity-dend', key='log_data/2018/11/2018-11-02-events.json')\n",
      "s3.ObjectSummary(bucket_name='udacity-dend', key='log_data/2018/11/2018-11-03-events.json')\n",
      "s3.ObjectSummary(bucket_name='udacity-dend', key='log_data/2018/11/2018-11-04-events.json')\n",
      "s3.ObjectSummary(bucket_name='udacity-dend', key='log_data/2018/11/2018-11-05-events.json')\n",
      "s3.ObjectSummary(bucket_name='udacity-dend', key='log_data/2018/11/2018-11-06-events.json')\n"
     ]
    }
   ],
   "source": [
    "# list Log Data \n",
    "# boto3 s3 client has no attribute 'Bucket'\n",
    "song_data_bucket = s3r.Bucket(\"udacity-dend\")\n",
    "for i, obj in enumerate(udacity_bucket.objects.filter(Prefix='log_data')):\n",
    "    print(obj)\n",
    "    if i > 5:\n",
    "        break"
   ]
  },
  {
   "cell_type": "code",
   "execution_count": 7,
   "metadata": {
    "editable": true
   },
   "outputs": [
    {
     "name": "stdout",
     "output_type": "stream",
     "text": [
      "{\"artist\":null,\"auth\":\"Logged In\",\"firstName\":\"Walter\",\"gender\":\"M\",\"itemInSession\":0,\"lastName\":\"Frye\",\"length\":null,\"level\":\"free\",\"location\":\"San Francisco-Oakland-Hayward, CA\",\"method\":\"GET\",\"page\":\"Home\",\"registration\":1540919166796.0,\"sessionId\":38,\"song\":null,\"status\":200,\"ts\":1541105830796,\"userAgent\":\"\\\"Mozilla\\/5.0 (Macintosh; Intel Mac OS X 10_9_4) AppleWebKit\\/537.36 (KHTML, like Gecko) Chrome\\/36.0.1985.143 Safari\\/537.36\\\"\",\"userId\":\"39\"}\n",
      "{\"artist\":null,\"auth\":\"Logged In\",\"firstNam\n"
     ]
    }
   ],
   "source": [
    "# print the content of the first file\n",
    "print(s3c.get_object(Bucket='udacity-dend', Key='log_data/2018/11/2018-11-01-events.json')\\\n",
    "      ['Body'].read().decode('utf-8')[:500])"
   ]
  },
  {
   "cell_type": "markdown",
   "metadata": {
    "editable": true
   },
   "source": [
    "$\\rightarrow$ error in load of `staging_events`:\n",
    "\n",
    "1. check in AWS Redshift Query editor `select * from stl_load_errors`\n",
    "2. error \"Invalid timestamp format or value [YYYY-MM-DD HH24:MI:SS]\"\n",
    "3. From sample data above: \"ts\":1541105830796 is not a timestamp \n",
    "    -> might use BIGINT\n",
    "    -> or adapt LOAD SQL -> chose this, compare sql_queries.py"
   ]
  },
  {
   "cell_type": "markdown",
   "metadata": {
    "editable": true
   },
   "source": [
    "### Look into input file `log_json_path.json`\n",
    "\n",
    "$\\rightarrow$ Contains column headers"
   ]
  },
  {
   "cell_type": "code",
   "execution_count": 8,
   "metadata": {
    "editable": true
   },
   "outputs": [
    {
     "name": "stdout",
     "output_type": "stream",
     "text": [
      "{\n",
      "    \"jsonpaths\": [\n",
      "        \"$['artist']\",\n",
      "        \"$['auth']\",\n",
      "        \"$['firstName']\",\n",
      "        \"$['gender']\",\n",
      "        \"$['itemInSession']\",\n",
      "        \"$['lastName']\",\n",
      "        \"$['length']\",\n",
      "        \"$['level']\",\n",
      "        \"$['location']\",\n",
      "        \"$['method']\",\n",
      "        \"$['page']\",\n",
      "        \"$['registration']\",\n",
      "        \"$['sessionId']\",\n",
      "        \"$['song']\",\n",
      "        \"$['status']\",\n",
      "        \"$['ts']\",\n",
      "        \"$['userAgent']\",\n",
      "        \"$['userId']\"\n",
      "    ]\n",
      "}\n"
     ]
    }
   ],
   "source": [
    "# log_json_path.json\n",
    "# inspired by https://www.slsmk.com/use-boto3-to-open-an-aws-s3-file-directly/\n",
    "print(s3c.get_object(Bucket='udacity-dend', Key='log_json_path.json')['Body'].read().decode('utf-8'))"
   ]
  },
  {
   "cell_type": "code",
   "execution_count": 9,
   "metadata": {
    "editable": true
   },
   "outputs": [
    {
     "data": {
      "text/plain": [
       "<botocore.client.S3 at 0x7f1af7487550>"
      ]
     },
     "execution_count": 9,
     "metadata": {},
     "output_type": "execute_result"
    }
   ],
   "source": [
    "s3c"
   ]
  },
  {
   "cell_type": "markdown",
   "metadata": {
    "editable": true
   },
   "source": [
    "Get an impression of the song_data size"
   ]
  },
  {
   "cell_type": "code",
   "execution_count": 10,
   "metadata": {
    "editable": true
   },
   "outputs": [
    {
     "name": "stdout",
     "output_type": "stream",
     "text": [
      "Key song-data/ in folder song-data. 0 bytes\n",
      "Key song-data/A/A/A/TRAAAAK128F9318786.json in folder song-data. 244 bytes\n",
      "Key song-data/A/A/A/TRAAAAV128F421A322.json in folder song-data. 303 bytes\n",
      "Key song-data/A/A/A/TRAAABD128F429CF47.json in folder song-data. 268 bytes\n",
      "Key song-data/A/A/A/TRAAACN128F9355673.json in folder song-data. 262 bytes\n",
      "905\n"
     ]
    }
   ],
   "source": [
    "#inspired by https://newbedev.com/how-to-find-size-of-a-folder-inside-an-s3-bucket:\n",
    "top_level_folders = dict()\n",
    "num_files = 0\n",
    "for key in s3c.list_objects(Bucket='udacity-dend')['Contents']:\n",
    "\n",
    "    folder = key['Key'].split('/')[0]\n",
    "    if folder == 'song-data':\n",
    "        if num_files < 5:\n",
    "            print(\"Key %s in folder %s. %d bytes\" % (key['Key'], folder, key['Size']))\n",
    "        num_files += 1\n",
    "print(num_files)"
   ]
  },
  {
   "cell_type": "markdown",
   "metadata": {
    "editable": true
   },
   "source": [
    "# Develop the print statements in etl.py"
   ]
  },
  {
   "cell_type": "code",
   "execution_count": 11,
   "metadata": {
    "editable": true
   },
   "outputs": [
    {
     "name": "stdout",
     "output_type": "stream",
     "text": [
      "songplays\n",
      "users\n",
      "songs\n",
      "artists\n",
      "time\n"
     ]
    }
   ],
   "source": [
    "# Develop print statement in etl.py\n",
    "from sql_queries import copy_table_queries, insert_table_queries\n",
    "for query in insert_table_queries:\n",
    "    print(query.strip().split(' ')[2])"
   ]
  }
 ],
 "metadata": {
  "kernelspec": {
   "display_name": "Python 3",
   "language": "python",
   "name": "python3"
  },
  "language_info": {
   "codemirror_mode": {
    "name": "ipython",
    "version": 3
   },
   "file_extension": ".py",
   "mimetype": "text/x-python",
   "name": "python",
   "nbconvert_exporter": "python",
   "pygments_lexer": "ipython3",
   "version": "3.6.3"
  }
 },
 "nbformat": 4,
 "nbformat_minor": 4
}
